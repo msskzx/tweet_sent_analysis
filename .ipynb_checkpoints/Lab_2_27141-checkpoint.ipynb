{
 "cells": [
  {
   "cell_type": "markdown",
   "metadata": {},
   "source": [
    "### Construct the inverted index dictionary (Key is a word, value is the list of documents containing this word)"
   ]
  },
  {
   "cell_type": "code",
   "execution_count": 1,
   "metadata": {},
   "outputs": [
    {
     "name": "stdout",
     "output_type": "stream",
     "text": [
      "The number of unique words in the index is: 20951\n"
     ]
    }
   ],
   "source": [
    "import os\n",
    "\n",
    "from nltk import word_tokenize\n",
    "\n",
    "def create_index(n):\n",
    "    index = {}\n",
    "    for root,dirs, files in os.walk('single-docs'):\n",
    "        for file in files[:n]:\n",
    "            f = open(os.path.join(root,file), 'r', encoding='utf8')\n",
    "            words = word_tokenize(f.read())\n",
    "            for word in set(words): # For every unique word in this document (does NOT preserve word order!)\n",
    "#             for word in words: # Would keep repetitions but preserves word order\n",
    "                \n",
    "                if not word in index: # Check whether this word is in my index\n",
    "                    index[word] = [] # If not, create a new entry in the index as an empty list\n",
    "                \n",
    "                # And either way, append the file name to the list of documents this word is contained in\n",
    "                index[word].append(file) \n",
    "            f.close()\n",
    "    return index\n",
    "\n",
    "idx = create_index(1000) # Create the index for the first 1000 documents\n",
    "print('The number of unique words in the index is:', len(idx))"
   ]
  },
  {
   "cell_type": "markdown",
   "metadata": {},
   "source": [
    "### Querying the inverted index (given a word, which documents contain this word?)"
   ]
  },
  {
   "cell_type": "code",
   "execution_count": 2,
   "metadata": {},
   "outputs": [
    {
     "name": "stdout",
     "output_type": "stream",
     "text": [
      "The first ten documents containing the word football:\n",
      " ['sw_100133.txt', 'sw_100255.txt', 'sw_100256.txt', 'sw_100257.txt', 'sw_100258.txt', 'sw_100728.txt', 'sw_100832.txt', 'sw_100840.txt', 'sw_100841.txt', 'sw_100844.txt']\n",
      "The number of documents containing the word football:\n",
      " 58\n"
     ]
    }
   ],
   "source": [
    "print('The first ten documents containing the word football:\\n', idx['football'][:10])\n",
    "print('The number of documents containing the word football:\\n', len(idx['football']))\n"
   ]
  },
  {
   "cell_type": "markdown",
   "metadata": {},
   "source": [
    "### Improved performance using inverted index (comparing to lab 1)"
   ]
  },
  {
   "cell_type": "code",
   "execution_count": 3,
   "metadata": {},
   "outputs": [
    {
     "name": "stdout",
     "output_type": "stream",
     "text": [
      "['sw_10002.txt', 'sw_101129.txt', 'sw_101169.txt', 'sw_101415.txt', 'sw_101799.txt', 'sw_10195.txt', 'sw_10200.txt', 'sw_102040.txt', 'sw_102061.txt', 'sw_102066.txt']\n",
      "0.0 seconds to query index\n"
     ]
    }
   ],
   "source": [
    "from time import time\n",
    "\n",
    "t1 = time()\n",
    "print(idx['president'][:10])\n",
    "print(time()-t1, 'seconds to query index')"
   ]
  },
  {
   "cell_type": "markdown",
   "metadata": {},
   "source": [
    "### Most frequent 20 words without FreqDist"
   ]
  },
  {
   "cell_type": "code",
   "execution_count": 4,
   "metadata": {},
   "outputs": [
    {
     "name": "stdout",
     "output_type": "stream",
     "text": [
      ". 850\n",
      "the 806\n",
      "a 758\n",
      "in 757\n",
      "of 755\n",
      "is 754\n",
      ", 731\n",
      "and 679\n",
      "The 554\n",
      "( 504\n",
      ") 504\n",
      "to 485\n",
      "'' 474\n",
      "`` 467\n",
      "was 425\n",
      "by 375\n",
      "as 372\n",
      "for 367\n",
      "are 360\n",
      "It 356\n"
     ]
    }
   ],
   "source": [
    "for word, lst in sorted(idx.items(), key=lambda x: len(x[1]), reverse=True)[:20]:\n",
    "    print(word, len(lst))"
   ]
  },
  {
   "cell_type": "markdown",
   "metadata": {},
   "source": [
    "### Building the FreqDist object to return most frequent 20 words"
   ]
  },
  {
   "cell_type": "code",
   "execution_count": 5,
   "metadata": {},
   "outputs": [
    {
     "name": "stdout",
     "output_type": "stream",
     "text": [
      "[('.', 850), ('the', 806), ('a', 758), ('in', 757), ('of', 755), ('is', 754), (',', 731), ('and', 679), ('The', 554), ('(', 504), (')', 504), ('to', 485), (\"''\", 474), ('``', 467), ('was', 425), ('by', 375), ('as', 372), ('for', 367), ('are', 360), ('It', 356)]\n"
     ]
    }
   ],
   "source": [
    "from nltk import FreqDist\n",
    "\n",
    "freq = FreqDist()\n",
    "\n",
    "for word in idx:\n",
    "    freq[word] = len(idx[word])\n",
    "    \n",
    "print(freq.most_common(20))"
   ]
  },
  {
   "cell_type": "markdown",
   "metadata": {},
   "source": [
    "### Printing the list of punctuation symbols and english stopwords"
   ]
  },
  {
   "cell_type": "code",
   "execution_count": 6,
   "metadata": {
    "scrolled": true
   },
   "outputs": [
    {
     "name": "stdout",
     "output_type": "stream",
     "text": [
      "['!', '\"', '#', '$', '%', '&', \"'\", '(', ')', '*', '+', ',', '-', '.', '/', ':', ';', '<', '=', '>', '?', '@', '[', '\\\\', ']', '^', '_', '`', '{', '|', '}', '~'] \n",
      "\n",
      "['i', 'me', 'my', 'myself', 'we', 'our', 'ours', 'ourselves', 'you', \"you're\", \"you've\", \"you'll\", \"you'd\", 'your', 'yours', 'yourself', 'yourselves', 'he', 'him', 'his', 'himself', 'she', \"she's\", 'her', 'hers', 'herself', 'it', \"it's\", 'its', 'itself', 'they', 'them', 'their', 'theirs', 'themselves', 'what', 'which', 'who', 'whom', 'this', 'that', \"that'll\", 'these', 'those', 'am', 'is', 'are', 'was', 'were', 'be', 'been', 'being', 'have', 'has', 'had', 'having', 'do', 'does', 'did', 'doing', 'a', 'an', 'the', 'and', 'but', 'if', 'or', 'because', 'as', 'until', 'while', 'of', 'at', 'by', 'for', 'with', 'about', 'against', 'between', 'into', 'through', 'during', 'before', 'after', 'above', 'below', 'to', 'from', 'up', 'down', 'in', 'out', 'on', 'off', 'over', 'under', 'again', 'further', 'then', 'once', 'here', 'there', 'when', 'where', 'why', 'how', 'all', 'any', 'both', 'each', 'few', 'more', 'most', 'other', 'some', 'such', 'no', 'nor', 'not', 'only', 'own', 'same', 'so', 'than', 'too', 'very', 's', 't', 'can', 'will', 'just', 'don', \"don't\", 'should', \"should've\", 'now', 'd', 'll', 'm', 'o', 're', 've', 'y', 'ain', 'aren', \"aren't\", 'couldn', \"couldn't\", 'didn', \"didn't\", 'doesn', \"doesn't\", 'hadn', \"hadn't\", 'hasn', \"hasn't\", 'haven', \"haven't\", 'isn', \"isn't\", 'ma', 'mightn', \"mightn't\", 'mustn', \"mustn't\", 'needn', \"needn't\", 'shan', \"shan't\", 'shouldn', \"shouldn't\", 'wasn', \"wasn't\", 'weren', \"weren't\", 'won', \"won't\", 'wouldn', \"wouldn't\"]\n"
     ]
    }
   ],
   "source": [
    "import string\n",
    "from nltk.corpus import stopwords\n",
    "\n",
    "print(list(string.punctuation), '\\n')\n",
    "print(stopwords.words('english'))\n"
   ]
  },
  {
   "cell_type": "markdown",
   "metadata": {},
   "source": [
    "### Building the FreqDist object while ignoring stopwords and punctuation"
   ]
  },
  {
   "cell_type": "code",
   "execution_count": 7,
   "metadata": {},
   "outputs": [
    {
     "name": "stdout",
     "output_type": "stream",
     "text": [
      "[('The', 554), ('It', 356), ('also', 275), ('In', 259), ('people', 226), ('called', 214), ('one', 213), ('first', 200), ('They', 195), ('part', 188), ('many', 184), ('This', 176), ('made', 171), ('He', 165), ('two', 151), ('known', 150), ('used', 147), ('A', 146), ('There', 128), ('France', 126)]\n"
     ]
    },
    {
     "data": {
      "image/png": "[encoded data removed]",
      "text/plain": [
       "<matplotlib.figure.Figure at 0x4b85898>"
      ]
     },
     "metadata": {},
     "output_type": "display_data"
    }
   ],
   "source": [
    "english_stops = stopwords.words('english')\n",
    "english_stops += list(string.punctuation)\n",
    "english_stops += ['``', \"''\", \"'s\"] # You can add other symbols or words to the list of words to be ignored\n",
    "\n",
    "def get_freq(idx):\n",
    "    freq = FreqDist()\n",
    "    for word in idx:\n",
    "        if word not in english_stops: # Ignore the words in the stopwords+punctuation list\n",
    "            freq[word] = len(idx[word])\n",
    "    return freq\n",
    "\n",
    "freq = get_freq(idx)\n",
    "print(freq.most_common(20)) # Printing the 20 most common words \n",
    "freq.plot(10) # Plot the 10 most common words against their frequencies"
   ]
  },
  {
   "cell_type": "markdown",
   "metadata": {},
   "source": [
    "### Creating an inverted index with all words converted to lowercase"
   ]
  },
  {
   "cell_type": "code",
   "execution_count": 13,
   "metadata": {},
   "outputs": [],
   "source": [
    "def create_index_lower():\n",
    "    index = {}\n",
    "    for root,dirs, files in os.walk('single-docs'):\n",
    "        for file in files[:1000]:\n",
    "            f = open(os.path.join(root,file), 'r', encoding = 'utf8')\n",
    "            words = word_tokenize(f.read())\n",
    "            #Can replace the following line by words = [item.lower() for item in words]\n",
    "            words = list(map(lambda x: x.lower(), words)) # Converting every word to lowercase\n",
    "            for word in set(words):\n",
    "                if not word in index:\n",
    "                    index[word] = []\n",
    "                index[word].append(file)\n",
    "    return index\n",
    "\n",
    "idx_lower = create_index_lower()"
   ]
  },
  {
   "cell_type": "markdown",
   "metadata": {},
   "source": [
    "### Now uppercase stopwords are removed"
   ]
  },
  {
   "cell_type": "code",
   "execution_count": 14,
   "metadata": {},
   "outputs": [
    {
     "name": "stdout",
     "output_type": "stream",
     "text": [
      "[('also', 286), ('people', 235), ('one', 234), ('first', 216), ('called', 214), ('many', 207), ('part', 189), ('made', 172), ('two', 156), ('known', 150), ('used', 147), ('world', 129), ('time', 129), ('city', 128), ('france', 126), ('new', 125), ('years', 124), ('english', 120), ('like', 119), ('may', 118)]\n"
     ]
    }
   ],
   "source": [
    "freq_lower = get_freq(idx_lower)\n",
    "print(freq_lower.most_common(20))"
   ]
  },
  {
   "cell_type": "markdown",
   "metadata": {},
   "source": [
    "### Getting the intersection between two lists"
   ]
  },
  {
   "cell_type": "code",
   "execution_count": 15,
   "metadata": {},
   "outputs": [
    {
     "name": "stdout",
     "output_type": "stream",
     "text": [
      "{2, 3}\n"
     ]
    }
   ],
   "source": [
    "l1 = [1,2,3]\n",
    "l2 = [2,3,4]\n",
    "#remember to typecast to set\n",
    "print(set(l1).intersection(set(l2)))"
   ]
  },
  {
   "cell_type": "markdown",
   "metadata": {},
   "source": [
    "### Performing AND & OR queries"
   ]
  },
  {
   "cell_type": "code",
   "execution_count": 16,
   "metadata": {},
   "outputs": [
    {
     "name": "stdout",
     "output_type": "stream",
     "text": [
      "The number of documents containing president is 29, number of docs containing visit is 8\n",
      "The number of documents containing both 'president' and 'visit' is 1\n",
      "The number of documents containing either 'president' or 'visit' 36\n"
     ]
    }
   ],
   "source": [
    "w1 = idx_lower['president']\n",
    "w2 = idx_lower['visit']\n",
    "\n",
    "print('The number of documents containing president is %d, number of docs containing visit is %d' %(len((w1)), len((w2))))\n",
    "print('The number of documents containing both \\'president\\' and \\'visit\\' is',len(set(w1).intersection(set(w2))))\n",
    "print('The number of documents containing either \\'president\\' or \\'visit\\'', len(set(w1).union(set(w2))))"
   ]
  },
  {
   "cell_type": "code",
   "execution_count": null,
   "metadata": {
    "collapsed": true
   },
   "outputs": [],
   "source": []
  }
 ],
 "metadata": {
  "anaconda-cloud": {},
  "kernelspec": {
   "display_name": "Python 3",
   "language": "python",
   "name": "python3"
  },
  "language_info": {
   "codemirror_mode": {
    "name": "ipython",
    "version": 3
   },
   "file_extension": ".py",
   "mimetype": "text/x-python",
   "name": "python",
   "nbconvert_exporter": "python",
   "pygments_lexer": "ipython3",
   "version": "3.6.5"
  }
 },
 "nbformat": 4,
 "nbformat_minor": 1
}
