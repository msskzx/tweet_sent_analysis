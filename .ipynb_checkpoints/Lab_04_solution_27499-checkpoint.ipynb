{
 "cells": [
  {
   "cell_type": "code",
   "execution_count": 1,
   "metadata": {
    "collapsed": true
   },
   "outputs": [],
   "source": [
    "text = \"We can see the shining sun.\""
   ]
  },
  {
   "cell_type": "markdown",
   "metadata": {},
   "source": [
    "### Bi-grams using NLTK"
   ]
  },
  {
   "cell_type": "code",
   "execution_count": 3,
   "metadata": {},
   "outputs": [
    {
     "name": "stdout",
     "output_type": "stream",
     "text": [
      "[('We', 'can'), ('can', 'see'), ('see', 'the'), ('the', 'shining'), ('shining', 'sun')]\n"
     ]
    }
   ],
   "source": [
    "import nltk\n",
    "import string\n",
    "from nltk import word_tokenize\n",
    "\n",
    "token = [w for w in word_tokenize(text) if w not in list(string.punctuation)]\n",
    "bigrams = nltk.bigrams(token)\n",
    "print(list(bigrams))"
   ]
  },
  {
   "cell_type": "markdown",
   "metadata": {},
   "source": [
    "### Ngrams using NLTK"
   ]
  },
  {
   "cell_type": "code",
   "execution_count": 6,
   "metadata": {},
   "outputs": [
    {
     "name": "stdout",
     "output_type": "stream",
     "text": [
      "[('We', 'can', 'see'), ('can', 'see', 'the'), ('see', 'the', 'shining'), ('the', 'shining', 'sun'), ('shining', 'sun', '.')]\n"
     ]
    }
   ],
   "source": [
    "from nltk.util import ngrams\n",
    "\n",
    "n = 3\n",
    "token=word_tokenize(text)\n",
    "ngrams=ngrams(token,n)\n",
    "print(list(ngrams))"
   ]
  },
  {
   "cell_type": "code",
   "execution_count": 7,
   "metadata": {},
   "outputs": [
    {
     "name": "stdout",
     "output_type": "stream",
     "text": [
      "We can see the shining sun.\n",
      "[('We', 'can', 'see'), ('can', 'see', 'the'), ('see', 'the', 'shining'), ('the', 'shining', 'sun'), ('shining', 'sun', '.')]\n"
     ]
    }
   ],
   "source": [
    "print(text)\n",
    "token=word_tokenize(text)\n",
    "ngrams = []\n",
    "n = 3 # n for ngrams\n",
    "c = 0\n",
    "while c < len(token) -n+1:\n",
    "    ngrams.append(tuple(token[c:c+n]))\n",
    "    c += 1\n",
    "print(ngrams)"
   ]
  },
  {
   "cell_type": "markdown",
   "metadata": {},
   "source": [
    "### Calculating precision, recall and fscore using the intersection/length methods"
   ]
  },
  {
   "cell_type": "code",
   "execution_count": 8,
   "metadata": {},
   "outputs": [
    {
     "name": "stdout",
     "output_type": "stream",
     "text": [
      "(0.6666666666666666, 1.0, 0.8)\n",
      "(1.0, 0.6666666666666666, 0.8)\n",
      "(0.6, 0.75, 0.6666666666666665)\n"
     ]
    }
   ],
   "source": [
    "def prec_rec_f1_method1(ref, res):\n",
    "    intersect = len(set(ref).intersection(set(res)))\n",
    "    recall = intersect/len(ref)\n",
    "    precision = intersect/len(res)\n",
    "    f1 = 2*recall*precision/(recall+precision)\n",
    "\n",
    "    return(precision, recall, f1)\n",
    "\n",
    "\n",
    "ref = [1,2]\n",
    "res = [1,2,3]\n",
    "print(prec_rec_f1_method1(ref, res))\n",
    "\n",
    "\n",
    "ref = [1,2,4]\n",
    "res = [1,2]\n",
    "print(prec_rec_f1_method1(ref,res))\n",
    "\n",
    "\n",
    "ref = [1,3,5,6]\n",
    "res = [1,2,3,4,5]\n",
    "print(prec_rec_f1_method1 (ref, res))"
   ]
  },
  {
   "cell_type": "markdown",
   "metadata": {},
   "source": [
    "### Calculating precision, recall and fscore using the True Positives, False Positives and False Negatives method"
   ]
  },
  {
   "cell_type": "code",
   "execution_count": 9,
   "metadata": {},
   "outputs": [
    {
     "name": "stdout",
     "output_type": "stream",
     "text": [
      "true positives = 2, false positives = 1, false negatives = 0\n",
      "(0.6666666666666666, 1.0, 0.8)\n",
      "true positives = 2, false positives = 0, false negatives = 1\n",
      "(1.0, 0.6666666666666666, 0.8)\n",
      "true positives = 3, false positives = 2, false negatives = 1\n",
      "(0.6, 0.75, 0.6666666666666665)\n"
     ]
    }
   ],
   "source": [
    "def prec_rec_f1_method2(ref, res):\n",
    "    \n",
    "    tp = len(set(ref).intersection(set(res)))\n",
    "    \n",
    "    fp = 0\n",
    "    fn = 0\n",
    "    \n",
    "    for i in ref:\n",
    "        if i not in res:\n",
    "            fn+=1\n",
    "    \n",
    "    for i in res:\n",
    "        if i not in ref:\n",
    "            fp+=1\n",
    "    \n",
    "    print('true positives = %d, false positives = %d, false negatives = %d'%(tp, fp, fn))\n",
    "\n",
    "    recall = tp/(tp+fn)\n",
    "    precision = tp/(tp+fp)\n",
    "    f1 = 2*recall*precision/(recall+precision)\n",
    "\n",
    "    return(precision, recall, f1)\n",
    "\n",
    "ref = [1,2]\n",
    "res = [1,2,3]\n",
    "print(prec_rec_f1_method2(ref, res))\n",
    "\n",
    "ref = [1,2,4]\n",
    "res = [1,2]\n",
    "print(prec_rec_f1_method2(ref,res))\n",
    "\n",
    "ref = [1,3,5,6]\n",
    "res = [1,2,3,4,5]\n",
    "print(prec_rec_f1_method2 (ref, res))\n"
   ]
  },
  {
   "cell_type": "markdown",
   "metadata": {},
   "source": [
    "### Using NLTK"
   ]
  },
  {
   "cell_type": "code",
   "execution_count": 10,
   "metadata": {},
   "outputs": [
    {
     "name": "stdout",
     "output_type": "stream",
     "text": [
      "0.6 0.75\n"
     ]
    }
   ],
   "source": [
    "from nltk.metrics import precision, recall\n",
    "ref = [1,3,5,6]\n",
    "res = [1,2,3,4,5]\n",
    "print(precision(set(ref), set(res)), recall(set(ref), set(res))) # must convert lists to sets"
   ]
  },
  {
   "cell_type": "markdown",
   "metadata": {},
   "source": [
    "### Using sklearn"
   ]
  },
  {
   "cell_type": "code",
   "execution_count": 11,
   "metadata": {},
   "outputs": [
    {
     "name": "stdout",
     "output_type": "stream",
     "text": [
      "[False, True, False, True, False, True, True, True, False, True]\n",
      "[False, True, True, True, True, True, False, True, True, False]\n",
      "0.571428571429 0.666666666667\n"
     ]
    }
   ],
   "source": [
    "from sklearn.metrics import precision_score, recall_score\n",
    "\n",
    "ref = [1,3,5,6,7,9]\n",
    "res = [1,2,3,4,5,7,8]\n",
    "\n",
    "# Lists of length the same as the maximum value in the ref/res\n",
    "# Every index in the arrays is true/false (or 0/1) \n",
    "# True means that the document whose id is the index is relevant\n",
    "ref_binary = [i in ref for i in range(10)] \n",
    "res_binary = [i in res for i in range(10)]\n",
    "print(ref_binary, res_binary, sep='\\n')\n",
    "print(precision_score(ref_binary, res_binary), recall_score(ref_binary, res_binary))"
   ]
  },
  {
   "cell_type": "code",
   "execution_count": null,
   "metadata": {
    "collapsed": true
   },
   "outputs": [],
   "source": []
  },
  {
   "cell_type": "markdown",
   "metadata": {},
   "source": [
    "### Links\n",
    "https://www.quora.com/What-is-the-difference-between-Precision-and-Recall"
   ]
  },
  {
   "cell_type": "code",
   "execution_count": null,
   "metadata": {
    "collapsed": true
   },
   "outputs": [],
   "source": []
  }
 ],
 "metadata": {
  "anaconda-cloud": {},
  "kernelspec": {
   "display_name": "Python 3",
   "language": "python",
   "name": "python3"
  },
  "language_info": {
   "codemirror_mode": {
    "name": "ipython",
    "version": 3
   },
   "file_extension": ".py",
   "mimetype": "text/x-python",
   "name": "python",
   "nbconvert_exporter": "python",
   "pygments_lexer": "ipython3",
   "version": "3.6.5"
  }
 },
 "nbformat": 4,
 "nbformat_minor": 1
}
