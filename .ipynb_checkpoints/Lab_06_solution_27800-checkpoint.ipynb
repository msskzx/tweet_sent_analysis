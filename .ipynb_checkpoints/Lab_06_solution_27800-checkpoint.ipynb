{
 "cells": [
  {
   "cell_type": "markdown",
   "metadata": {},
   "source": [
    "### Regular Expression Tagger"
   ]
  },
  {
   "cell_type": "code",
   "execution_count": 1,
   "metadata": {
    "collapsed": true
   },
   "outputs": [],
   "source": [
    "from nltk import RegexpTagger\n",
    "from nltk.corpus import brown\n"
   ]
  },
  {
   "cell_type": "code",
   "execution_count": 2,
   "metadata": {
    "collapsed": true
   },
   "outputs": [],
   "source": [
    "# loading the brown dataset without the tags\n",
    "brown_sents = brown.sents(categories='news') \n",
    "patterns = [\n",
    "     (r'.*ing$', 'VBG'),               # gerunds\n",
    "     (r'.*ed$', 'VBD'),                # simple past\n",
    "     (r'.*es$', 'VBZ'),                # 3rd singular present\n",
    "     (r'.*ould$', 'MD'),               # modals\n",
    "     (r'.*\\'s$', 'NN$'),               # possessive nouns\n",
    "     (r'.*s$', 'NNS'),                 # plural nouns\n",
    "     (r'^-?[0-9]+(.[0-9]+)?$', 'CD'),  # cardinal numbers\n",
    "     (r'.*', 'NN')                     # nouns (default)\n",
    " ]"
   ]
  },
  {
   "cell_type": "code",
   "execution_count": 3,
   "metadata": {},
   "outputs": [
    {
     "data": {
      "text/plain": [
       "[('``', 'NN'),\n",
       " ('Only', 'NN'),\n",
       " ('a', 'NN'),\n",
       " ('relative', 'NN'),\n",
       " ('handful', 'NN'),\n",
       " ('of', 'NN'),\n",
       " ('such', 'NN'),\n",
       " ('reports', 'NNS'),\n",
       " ('was', 'NNS'),\n",
       " ('received', 'VBD'),\n",
       " (\"''\", 'NN'),\n",
       " (',', 'NN'),\n",
       " ('the', 'NN'),\n",
       " ('jury', 'NN'),\n",
       " ('said', 'NN'),\n",
       " (',', 'NN'),\n",
       " ('``', 'NN'),\n",
       " ('considering', 'VBG'),\n",
       " ('the', 'NN'),\n",
       " ('widespread', 'NN'),\n",
       " ('interest', 'NN'),\n",
       " ('in', 'NN'),\n",
       " ('the', 'NN'),\n",
       " ('election', 'NN'),\n",
       " (',', 'NN'),\n",
       " ('the', 'NN'),\n",
       " ('number', 'NN'),\n",
       " ('of', 'NN'),\n",
       " ('voters', 'NNS'),\n",
       " ('and', 'NN'),\n",
       " ('the', 'NN'),\n",
       " ('size', 'NN'),\n",
       " ('of', 'NN'),\n",
       " ('this', 'NNS'),\n",
       " ('city', 'NN'),\n",
       " (\"''\", 'NN'),\n",
       " ('.', 'NN')]"
      ]
     },
     "execution_count": 3,
     "metadata": {},
     "output_type": "execute_result"
    }
   ],
   "source": [
    "regexp_tagger = RegexpTagger(patterns)\n",
    "regexp_tagger.tag(brown_sents[3])"
   ]
  },
  {
   "cell_type": "code",
   "execution_count": 4,
   "metadata": {
    "collapsed": true
   },
   "outputs": [],
   "source": [
    "# loading the brown dataset without the tags\n",
    "brown_tagged_sents = brown.tagged_sents(categories='news')"
   ]
  },
  {
   "cell_type": "code",
   "execution_count": 5,
   "metadata": {},
   "outputs": [
    {
     "name": "stdout",
     "output_type": "stream",
     "text": [
      "The same sentence in same word order in both the tagged and untagged brown dataset\n",
      " ['The', 'jury', 'further', 'said', 'in']\n",
      "\n",
      " [('The', 'AT'), ('jury', 'NN'), ('further', 'RBR'), ('said', 'VBD'), ('in', 'IN')]\n"
     ]
    }
   ],
   "source": [
    "print('The same sentence in same word order in both the tagged and untagged brown dataset\\n',brown_sents[1][:5])\n",
    "print('\\n',brown_tagged_sents[1][:5])"
   ]
  },
  {
   "cell_type": "markdown",
   "metadata": {
    "collapsed": true
   },
   "source": [
    "&nbsp;\n",
    "### search() Vs match()"
   ]
  },
  {
   "cell_type": "code",
   "execution_count": 6,
   "metadata": {},
   "outputs": [
    {
     "name": "stdout",
     "output_type": "stream",
     "text": [
      "1) <_sre.SRE_Match object; span=(0, 1), match='d'>\n",
      "2) None\n"
     ]
    }
   ],
   "source": [
    "import re\n",
    "print('1)',re.match(\"d\",\"dog\"))     # Match at index 0\n",
    "print('2)',re.match(\"g\",\"dog\"))  # No match; not at the begining of the string"
   ]
  },
  {
   "cell_type": "code",
   "execution_count": 7,
   "metadata": {},
   "outputs": [
    {
     "name": "stdout",
     "output_type": "stream",
     "text": [
      "1) <_sre.SRE_Match object; span=(0, 1), match='d'>\n",
      "2) <_sre.SRE_Match object; span=(2, 3), match='g'>\n"
     ]
    }
   ],
   "source": [
    "print('1)',re.search(\"d\",\"dog\"))     # Match at index 0\n",
    "print('2)',re.search(\"g\",\"dog\"))  # Match at index 2"
   ]
  },
  {
   "cell_type": "code",
   "execution_count": 8,
   "metadata": {},
   "outputs": [
    {
     "name": "stdout",
     "output_type": "stream",
     "text": [
      "['I', 'Happy', 'Salem', 'HappyLife']\n"
     ]
    }
   ],
   "source": [
    "st = 'I am very Happy, Salem'\n",
    "print(re.findall(r'\\b[A-Z]\\w*','I am very Happy, Salem  HappyLife'))"
   ]
  },
  {
   "cell_type": "markdown",
   "metadata": {},
   "source": [
    "&nbsp;\n",
    "### Confusion Matrix"
   ]
  },
  {
   "cell_type": "code",
   "execution_count": 9,
   "metadata": {},
   "outputs": [
    {
     "name": "stdout",
     "output_type": "stream",
     "text": [
      "     |         B                       |\n",
      "     |         E           N   V V V   |\n",
      "     | '     A D C D I J N N R B B B ` |\n",
      "     | ' , . T Z C T N J N S B D G N ` |\n",
      "-----+---------------------------------+\n",
      "  '' |<.>. . . . . . . . 2 . . . . . . |\n",
      "   , | .<.>. . . . . . . 3 . . . . . . |\n",
      "   . | . .<.>. . . . . . 1 . . . . . . |\n",
      "  AT | . . .<.>. . . . . 6 . . . . . . |\n",
      "BEDZ | . . . .<.>. . . . . 1 . . . . . |\n",
      "  CC | . . . . .<.>. . . 1 . . . . . . |\n",
      "  DT | . . . . . .<.>. . . 1 . . . . . |\n",
      "  IN | . . . . . . .<.>. 4 . . . 1 . . |\n",
      "  JJ | . . . . . . . .<.>3 . . . . . . |\n",
      "  NN | . . . . . . . . .<7>. . . . . . |\n",
      " NNS | . . . . . . . . . .<2>. . . . . |\n",
      "  RB | . . . . . . . . . 1 .<.>. . . . |\n",
      " VBD | . . . . . . . . . 1 . .<.>. . . |\n",
      " VBG | . . . . . . . . . . . . .<.>. . |\n",
      " VBN | . . . . . . . . . . . . 1 .<.>. |\n",
      "  `` | . . . . . . . . . 2 . . . . .<.>|\n",
      "-----+---------------------------------+\n",
      "(row = reference; col = test)\n",
      "\n"
     ]
    }
   ],
   "source": [
    "from nltk.metrics import ConfusionMatrix\n",
    "\n",
    "#loading the tagged and untagged brown tagset\n",
    "brown_sents = brown.sents(categories='news')\n",
    "brown_tagged_sents = brown.tagged_sents(categories='news')\n",
    "\n",
    "#tagging sent in idx 3\n",
    "regex_tags = regexp_tagger.tag(brown_sents[3])\n",
    "\n",
    "ref_tags = [tag for (word,tag) in brown_tagged_sents[3]]\n",
    "pred_tags = [tag for (word,tag) in regex_tags]\n",
    "cm = ConfusionMatrix(ref_tags,pred_tags)\n",
    "print(cm)"
   ]
  },
  {
   "cell_type": "markdown",
   "metadata": {},
   "source": [
    "&nbsp;\n",
    "#### Links / References\n",
    "\n",
    "https://www.mathsisfun.com/numbers/cardinal-ordinal-nominal.html\n",
    "\n",
    "http://www.nltk.org/book/ch05.html\n",
    "\n",
    "https://docs.python.org/3/library/re.html#search-vs-match\n"
   ]
  },
  {
   "cell_type": "code",
   "execution_count": null,
   "metadata": {
    "collapsed": true
   },
   "outputs": [],
   "source": []
  }
 ],
 "metadata": {
  "anaconda-cloud": {},
  "kernelspec": {
   "display_name": "Python 3",
   "language": "python",
   "name": "python3"
  },
  "language_info": {
   "codemirror_mode": {
    "name": "ipython",
    "version": 3
   },
   "file_extension": ".py",
   "mimetype": "text/x-python",
   "name": "python",
   "nbconvert_exporter": "python",
   "pygments_lexer": "ipython3",
   "version": "3.6.5"
  }
 },
 "nbformat": 4,
 "nbformat_minor": 1
}
